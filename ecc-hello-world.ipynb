{
 "cells": [
  {
   "cell_type": "markdown",
   "metadata": {},
   "source": [
    "\n",
    "# Trabalho 3 - Ponto 2\n",
    "\n",
    "<b>Unidade curricular</b>: Criptografia\n",
    "\n",
    "<b>Docente</b>: José Manuel Valença\n",
    "\n",
    "<b>Discentes</b>: Ana Ramos A74727; Ana Machado A75088\n",
    "\n",
    "## RSA\n",
    "\n",
    "\n",
    "\n",
    "É um algoritmo de criptografia de dados criado por três professores, sendo eles : Ronald <b>R</b>ivest, Adi <b>S</b>hamir e Leonard <b>A</b>dleman.\n",
    "\n",
    "O principio do RSA é construir <b>chaves públicas e privadas</b> usando números primos. \n",
    "<p>Uma <b>chave privada</b> é informação pessoal, não publicável. Por outro lado, uma <b>chave pública</b> é informação associada a uma pessoa que é distribuída a todos, ou seja, é publicável. </p>\n",
    "\n",
    "Para a estrutura da curva eliptica, é necessário o teorema de <i>bezout</i>. Este teorema define que, dados dois inteiros <b>a</b> e <b>b</b>, ambos não nulos, existem inteiros <b>m</b> e <b>n</b> tais que <b>am + bn = mdc(a,b)</b>. \n"
   ]
  },
  {
   "cell_type": "code",
   "execution_count": 11,
   "metadata": {},
   "outputs": [
    {
     "name": "stdout",
     "output_type": "stream",
     "text": [
      "True\n"
     ]
    }
   ],
   "source": [
    "#criar os numeros primos\n",
    "\n",
    "def rprime(l):\n",
    "    return random_prime(2**l-1,True,2**(l-1))\n",
    "\n",
    "l=1024\n",
    "\n",
    "q=rprime(l) \n",
    "p=rprime(l+1)\n",
    "\n",
    "\n",
    "n=q*p\n",
    "\n",
    "phi=(p-1)*(q-1)\n",
    "\n",
    "e=ZZ.random_element(phi)\n",
    "\n",
    "#para garantir que a propriedade de ser não-degenerado\n",
    "\n",
    "while gcd(e,phi) !=1:\n",
    "    e=ZZ.random_element(phi)\n",
    "\n",
    "print e<n #verificar que e é menor que o n"
   ]
  },
  {
   "cell_type": "code",
   "execution_count": 7,
   "metadata": {},
   "outputs": [
    {
     "name": "stdout",
     "output_type": "stream",
     "text": [
      "(1, -11175550773503540204824083343870438841740767938577216195808944416734726569480278200002984165328519812238382016863672359647819622625529600092174865083266126170287190746608535897487666518215982616961078867801923399962614189320307189149151004202879750168576969410611221441803982072622880642040336993454087029116239057523271001877837778734711508209654548353592345873357069719829499113906558416027715695812872965010672832055580751933388471228055658215211356231839177445573363801184301786601081405832367206689434994819945862602170819560687558035871739448175076610660974145426334240905288396343189678784901203274585484362313, 10894959313771578058372249117340285001216056741832443121901628212357709481685581133037829464966797753988633234824862352192408514128884022422361501978474999663655079120873851492529989495312262678252825655297186661190523038241262684947466729262648663187692614628539611646153639216662631768348235052155905662055474351260816693664227370394913926723550893148823288342303288725081543961552255349240953046322929490670906586946880028425204704700854666520589398627606158292740539549579586568874600046466381026609222604403854938898219176278718154907232563706770841263829203792373195500884613517703548269706937031769830972836740)\n",
      "32058843650114385666219261763323259615329639615228304083613049048662287042028512082816400299804254554528904259521582384222942011947380312749287705415151461551747663834186588493556499836142361821287955098617319318881056747013095564999328088747457552384666561682958181406775643269218867378079467027141784500433433090986544831022252353792528103627655169044223669058589883904972137264622242527450593469409655790202059912144273334291948779569221613437303651643167850525432760485106698524907735468498252808574053623102130896676558865600578119410998891877289202492243726362133128419821496461474486371682615655763988731580767\n"
     ]
    },
    {
     "data": {
      "text/plain": [
       "1"
      ]
     },
     "execution_count": 7,
     "metadata": {},
     "output_type": "execute_result"
    }
   ],
   "source": [
    "bezout=xgcd(e,phi)\n",
    "\n",
    "print bezout\n",
    "\n",
    "\n",
    "d=Integer(mod(bezout[1],phi))\n",
    "\n",
    "print d\n",
    "\n",
    "mod(d * e,phi)"
   ]
  },
  {
   "cell_type": "code",
   "execution_count": 8,
   "metadata": {},
   "outputs": [
    {
     "name": "stdout",
     "output_type": "stream",
     "text": [
      "[65, 32, 109, 105, 110, 104, 97, 32, 109, 101, 110, 115, 97, 103, 101, 109]\n",
      "65331006110497331002111598040209\n"
     ]
    }
   ],
   "source": [
    "message=\"A minha mensagem\"\n",
    "\n",
    "message=[ord(x) for x in message]\n",
    "\n",
    "print message\n",
    "\n",
    "message=ZZ(list(reversed(message)),100)\n",
    "\n",
    "print message"
   ]
  },
  {
   "cell_type": "code",
   "execution_count": 9,
   "metadata": {},
   "outputs": [
    {
     "name": "stdout",
     "output_type": "stream",
     "text": [
      "3339878278770452097890217579112926363597088009097064616744465098494572940517899175339131458437841284063227811700946149119570374774933873815560707857330439927543937385507878228460667985238197322692259215894801454345582533364806823563229757928096325237081332859391664705034179190530357098072890064162904458245873659496045390554820247721472702251387676124031066116046658008488481948697129059170388590347748039329910290786639253305755051229087556154626926497796623095497033060122092822343808266525619253855267850951855814803074552912899392667639043428491951054475316053674823293267976049827980327321918581710288542077133\n"
     ]
    }
   ],
   "source": [
    "ciphertext=power_mod(message,e,n)\n",
    "\n",
    "print ciphertext"
   ]
  },
  {
   "cell_type": "code",
   "execution_count": 10,
   "metadata": {},
   "outputs": [
    {
     "data": {
      "text/plain": [
       "True"
      ]
     },
     "execution_count": 10,
     "metadata": {},
     "output_type": "execute_result"
    }
   ],
   "source": [
    "#para decifrar\n",
    "\n",
    "plaintext=power_mod(ciphertext,d,n)\n",
    "\n",
    "message==plaintext"
   ]
  },
  {
   "cell_type": "markdown",
   "metadata": {},
   "source": [
    "### DH\n",
    "\n",
    "Neste ponto introduziu-se o protocolo de acordo de chaves de <b>Diffie-Hellman</b>. Este protocolo é constituído por três algoritmos. Primeiramente, ocorre a geração dos parâmetros que vão ser utilizados para a geração das chaves (privada e pública). De seguida, o agente <b>Alice</b> gera a chave privada, <b>x</b>, e a respetiva chave pública, <b>a^x</b>, e o agente <b>Bob</b> faz o mesmo. "
   ]
  },
  {
   "cell_type": "code",
   "execution_count": 13,
   "metadata": {},
   "outputs": [
    {
     "name": "stdout",
     "output_type": "stream",
     "text": [
      "True\n"
     ]
    }
   ],
   "source": [
    "l=1024\n",
    "\n",
    "#geração dos parametros\n",
    "\n",
    "p=rprime(l)\n",
    "\n",
    "q=mod(primitive_root(p),p)\n",
    "\n",
    "\n",
    "n=randint(1,p) #chave privada da Alice\n",
    "\n",
    "m=randint(1,p) #chave privada do Bob\n",
    "\n",
    "shared_keyA=q^n #chave publica da Alice\n",
    "\n",
    "shared_keyB=q^m #chave publica do Bob\n",
    "\n",
    "tagA=shared_keyB^n\n",
    "\n",
    "tagB=shared_keyA^m\n",
    "\n",
    "print tagA==tagB   "
   ]
  }
 ],
 "metadata": {
  "kernelspec": {
   "display_name": "SageMath 8.0",
   "language": "",
   "name": "sagemath"
  },
  "language_info": {
   "codemirror_mode": {
    "name": "ipython",
    "version": 2
   },
   "file_extension": ".py",
   "mimetype": "text/x-python",
   "name": "python",
   "nbconvert_exporter": "python",
   "pygments_lexer": "ipython2",
   "version": "2.7.13"
  }
 },
 "nbformat": 4,
 "nbformat_minor": 2
}
